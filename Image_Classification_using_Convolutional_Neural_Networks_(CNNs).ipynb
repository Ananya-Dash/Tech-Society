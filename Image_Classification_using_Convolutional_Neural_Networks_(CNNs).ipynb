{
  "nbformat": 4,
  "nbformat_minor": 0,
  "metadata": {
    "colab": {
      "provenance": [],
      "gpuType": "T4",
      "authorship_tag": "ABX9TyOft6y51nqbprJ3tIP2BxWw",
      "include_colab_link": true
    },
    "kernelspec": {
      "name": "python3",
      "display_name": "Python 3"
    },
    "language_info": {
      "name": "python"
    },
    "accelerator": "GPU"
  },
  "cells": [
    {
      "cell_type": "markdown",
      "metadata": {
        "id": "view-in-github",
        "colab_type": "text"
      },
      "source": [
        "<a href=\"https://colab.research.google.com/github/Ananya-Dash/Tech-Society/blob/main/Image_Classification_using_Convolutional_Neural_Networks_(CNNs).ipynb\" target=\"_parent\"><img src=\"https://colab.research.google.com/assets/colab-badge.svg\" alt=\"Open In Colab\"/></a>"
      ]
    },
    {
      "cell_type": "code",
      "execution_count": null,
      "metadata": {
        "id": "kMfisqCwuv_7"
      },
      "outputs": [],
      "source": [
        "import pandas as pd\n",
        "import numpy as np\n",
        "import matplotlib.pyplot as plt # Graph - Plotting\n",
        "%matplotlib inline\n",
        "import seaborn as sns\n",
        "import tensorflow as tf # Mostly used For Training deep Learning Models\n",
        "from tensorflow.keras import datasets, layers, models\n",
        "from tensorflow.keras.preprocessing.image import ImageDataGenerator\n",
        "from tensorflow.keras.callbacks import EarlyStopping"
      ]
    },
    {
      "cell_type": "markdown",
      "source": [
        "\n",
        "Collecting CIFAR 10 dataset and splitting them to training and testing datasets"
      ],
      "metadata": {
        "id": "fiCl1r7o34-f"
      }
    },
    {
      "cell_type": "code",
      "source": [
        "(X_train, y_train), (X_test,y_test)=datasets.cifar10.load_data()"
      ],
      "metadata": {
        "colab": {
          "base_uri": "https://localhost:8080/"
        },
        "id": "_pdkYtgR2Nnv",
        "outputId": "6c96ce15-690a-491c-915f-688c726c083e"
      },
      "execution_count": null,
      "outputs": [
        {
          "output_type": "stream",
          "name": "stdout",
          "text": [
            "Downloading data from https://www.cs.toronto.edu/~kriz/cifar-10-python.tar.gz\n",
            "170498071/170498071 [==============================] - 3s 0us/step\n"
          ]
        }
      ]
    },
    {
      "cell_type": "code",
      "source": [
        "print(X_train)"
      ],
      "metadata": {
        "colab": {
          "base_uri": "https://localhost:8080/"
        },
        "id": "udIEvMtX2Tib",
        "outputId": "c31518d7-fde3-4c6b-c87f-0301a010e557"
      },
      "execution_count": null,
      "outputs": [
        {
          "output_type": "stream",
          "name": "stdout",
          "text": [
            "[[[[ 59  62  63]\n",
            "   [ 43  46  45]\n",
            "   [ 50  48  43]\n",
            "   ...\n",
            "   [158 132 108]\n",
            "   [152 125 102]\n",
            "   [148 124 103]]\n",
            "\n",
            "  [[ 16  20  20]\n",
            "   [  0   0   0]\n",
            "   [ 18   8   0]\n",
            "   ...\n",
            "   [123  88  55]\n",
            "   [119  83  50]\n",
            "   [122  87  57]]\n",
            "\n",
            "  [[ 25  24  21]\n",
            "   [ 16   7   0]\n",
            "   [ 49  27   8]\n",
            "   ...\n",
            "   [118  84  50]\n",
            "   [120  84  50]\n",
            "   [109  73  42]]\n",
            "\n",
            "  ...\n",
            "\n",
            "  [[208 170  96]\n",
            "   [201 153  34]\n",
            "   [198 161  26]\n",
            "   ...\n",
            "   [160 133  70]\n",
            "   [ 56  31   7]\n",
            "   [ 53  34  20]]\n",
            "\n",
            "  [[180 139  96]\n",
            "   [173 123  42]\n",
            "   [186 144  30]\n",
            "   ...\n",
            "   [184 148  94]\n",
            "   [ 97  62  34]\n",
            "   [ 83  53  34]]\n",
            "\n",
            "  [[177 144 116]\n",
            "   [168 129  94]\n",
            "   [179 142  87]\n",
            "   ...\n",
            "   [216 184 140]\n",
            "   [151 118  84]\n",
            "   [123  92  72]]]\n",
            "\n",
            "\n",
            " [[[154 177 187]\n",
            "   [126 137 136]\n",
            "   [105 104  95]\n",
            "   ...\n",
            "   [ 91  95  71]\n",
            "   [ 87  90  71]\n",
            "   [ 79  81  70]]\n",
            "\n",
            "  [[140 160 169]\n",
            "   [145 153 154]\n",
            "   [125 125 118]\n",
            "   ...\n",
            "   [ 96  99  78]\n",
            "   [ 77  80  62]\n",
            "   [ 71  73  61]]\n",
            "\n",
            "  [[140 155 164]\n",
            "   [139 146 149]\n",
            "   [115 115 112]\n",
            "   ...\n",
            "   [ 79  82  64]\n",
            "   [ 68  70  55]\n",
            "   [ 67  69  55]]\n",
            "\n",
            "  ...\n",
            "\n",
            "  [[175 167 166]\n",
            "   [156 154 160]\n",
            "   [154 160 170]\n",
            "   ...\n",
            "   [ 42  34  36]\n",
            "   [ 61  53  57]\n",
            "   [ 93  83  91]]\n",
            "\n",
            "  [[165 154 128]\n",
            "   [156 152 130]\n",
            "   [159 161 142]\n",
            "   ...\n",
            "   [103  93  96]\n",
            "   [123 114 120]\n",
            "   [131 121 131]]\n",
            "\n",
            "  [[163 148 120]\n",
            "   [158 148 122]\n",
            "   [163 156 133]\n",
            "   ...\n",
            "   [143 133 139]\n",
            "   [143 134 142]\n",
            "   [143 133 144]]]\n",
            "\n",
            "\n",
            " [[[255 255 255]\n",
            "   [253 253 253]\n",
            "   [253 253 253]\n",
            "   ...\n",
            "   [253 253 253]\n",
            "   [253 253 253]\n",
            "   [253 253 253]]\n",
            "\n",
            "  [[255 255 255]\n",
            "   [255 255 255]\n",
            "   [255 255 255]\n",
            "   ...\n",
            "   [255 255 255]\n",
            "   [255 255 255]\n",
            "   [255 255 255]]\n",
            "\n",
            "  [[255 255 255]\n",
            "   [254 254 254]\n",
            "   [254 254 254]\n",
            "   ...\n",
            "   [254 254 254]\n",
            "   [254 254 254]\n",
            "   [254 254 254]]\n",
            "\n",
            "  ...\n",
            "\n",
            "  [[113 120 112]\n",
            "   [111 118 111]\n",
            "   [105 112 106]\n",
            "   ...\n",
            "   [ 72  81  80]\n",
            "   [ 72  80  79]\n",
            "   [ 72  80  79]]\n",
            "\n",
            "  [[111 118 110]\n",
            "   [104 111 104]\n",
            "   [ 99 106  98]\n",
            "   ...\n",
            "   [ 68  75  73]\n",
            "   [ 70  76  75]\n",
            "   [ 78  84  82]]\n",
            "\n",
            "  [[106 113 105]\n",
            "   [ 99 106  98]\n",
            "   [ 95 102  94]\n",
            "   ...\n",
            "   [ 78  85  83]\n",
            "   [ 79  85  83]\n",
            "   [ 80  86  84]]]\n",
            "\n",
            "\n",
            " ...\n",
            "\n",
            "\n",
            " [[[ 35 178 235]\n",
            "   [ 40 176 239]\n",
            "   [ 42 176 241]\n",
            "   ...\n",
            "   [ 99 177 219]\n",
            "   [ 79 147 197]\n",
            "   [ 89 148 189]]\n",
            "\n",
            "  [[ 57 182 234]\n",
            "   [ 44 184 250]\n",
            "   [ 50 183 240]\n",
            "   ...\n",
            "   [156 182 200]\n",
            "   [141 177 206]\n",
            "   [116 149 175]]\n",
            "\n",
            "  [[ 98 197 237]\n",
            "   [ 64 189 252]\n",
            "   [ 69 192 245]\n",
            "   ...\n",
            "   [188 195 206]\n",
            "   [119 135 147]\n",
            "   [ 61  79  90]]\n",
            "\n",
            "  ...\n",
            "\n",
            "  [[ 73  79  77]\n",
            "   [ 53  63  68]\n",
            "   [ 54  68  80]\n",
            "   ...\n",
            "   [ 17  40  64]\n",
            "   [ 21  36  51]\n",
            "   [ 33  48  49]]\n",
            "\n",
            "  [[ 61  68  75]\n",
            "   [ 55  70  86]\n",
            "   [ 57  79 103]\n",
            "   ...\n",
            "   [ 24  48  72]\n",
            "   [ 17  35  53]\n",
            "   [  7  23  32]]\n",
            "\n",
            "  [[ 44  56  73]\n",
            "   [ 46  66  88]\n",
            "   [ 49  77 105]\n",
            "   ...\n",
            "   [ 27  52  77]\n",
            "   [ 21  43  66]\n",
            "   [ 12  31  50]]]\n",
            "\n",
            "\n",
            " [[[189 211 240]\n",
            "   [186 208 236]\n",
            "   [185 207 235]\n",
            "   ...\n",
            "   [175 195 224]\n",
            "   [172 194 222]\n",
            "   [169 194 220]]\n",
            "\n",
            "  [[194 210 239]\n",
            "   [191 207 236]\n",
            "   [190 206 235]\n",
            "   ...\n",
            "   [173 192 220]\n",
            "   [171 191 218]\n",
            "   [167 190 216]]\n",
            "\n",
            "  [[208 219 244]\n",
            "   [205 216 240]\n",
            "   [204 215 239]\n",
            "   ...\n",
            "   [175 191 217]\n",
            "   [172 190 216]\n",
            "   [169 191 215]]\n",
            "\n",
            "  ...\n",
            "\n",
            "  [[207 199 181]\n",
            "   [203 195 175]\n",
            "   [203 196 173]\n",
            "   ...\n",
            "   [135 132 127]\n",
            "   [162 158 150]\n",
            "   [168 163 151]]\n",
            "\n",
            "  [[198 190 170]\n",
            "   [189 181 159]\n",
            "   [180 172 147]\n",
            "   ...\n",
            "   [178 171 160]\n",
            "   [175 169 156]\n",
            "   [175 169 154]]\n",
            "\n",
            "  [[198 189 173]\n",
            "   [189 181 162]\n",
            "   [178 170 149]\n",
            "   ...\n",
            "   [195 184 169]\n",
            "   [196 189 171]\n",
            "   [195 190 171]]]\n",
            "\n",
            "\n",
            " [[[229 229 239]\n",
            "   [236 237 247]\n",
            "   [234 236 247]\n",
            "   ...\n",
            "   [217 219 233]\n",
            "   [221 223 234]\n",
            "   [222 223 233]]\n",
            "\n",
            "  [[222 221 229]\n",
            "   [239 239 249]\n",
            "   [233 234 246]\n",
            "   ...\n",
            "   [223 223 236]\n",
            "   [227 228 238]\n",
            "   [210 211 220]]\n",
            "\n",
            "  [[213 206 211]\n",
            "   [234 232 239]\n",
            "   [231 233 244]\n",
            "   ...\n",
            "   [220 220 232]\n",
            "   [220 219 232]\n",
            "   [202 203 215]]\n",
            "\n",
            "  ...\n",
            "\n",
            "  [[150 143 135]\n",
            "   [140 135 127]\n",
            "   [132 127 120]\n",
            "   ...\n",
            "   [224 222 218]\n",
            "   [230 228 225]\n",
            "   [241 241 238]]\n",
            "\n",
            "  [[137 132 126]\n",
            "   [130 127 120]\n",
            "   [125 121 115]\n",
            "   ...\n",
            "   [181 180 178]\n",
            "   [202 201 198]\n",
            "   [212 211 207]]\n",
            "\n",
            "  [[122 119 114]\n",
            "   [118 116 110]\n",
            "   [120 116 111]\n",
            "   ...\n",
            "   [179 177 173]\n",
            "   [164 164 162]\n",
            "   [163 163 161]]]]\n"
          ]
        }
      ]
    },
    {
      "cell_type": "code",
      "source": [
        "print(X_test)"
      ],
      "metadata": {
        "colab": {
          "base_uri": "https://localhost:8080/"
        },
        "id": "pXZlTRwU3xmJ",
        "outputId": "a002cb14-84b7-4c31-e050-e06de7277d84"
      },
      "execution_count": null,
      "outputs": [
        {
          "output_type": "stream",
          "name": "stdout",
          "text": [
            "[[[[158 112  49]\n",
            "   [159 111  47]\n",
            "   [165 116  51]\n",
            "   ...\n",
            "   [137  95  36]\n",
            "   [126  91  36]\n",
            "   [116  85  33]]\n",
            "\n",
            "  [[152 112  51]\n",
            "   [151 110  40]\n",
            "   [159 114  45]\n",
            "   ...\n",
            "   [136  95  31]\n",
            "   [125  91  32]\n",
            "   [119  88  34]]\n",
            "\n",
            "  [[151 110  47]\n",
            "   [151 109  33]\n",
            "   [158 111  36]\n",
            "   ...\n",
            "   [139  98  34]\n",
            "   [130  95  34]\n",
            "   [120  89  33]]\n",
            "\n",
            "  ...\n",
            "\n",
            "  [[ 68 124 177]\n",
            "   [ 42 100 148]\n",
            "   [ 31  88 137]\n",
            "   ...\n",
            "   [ 38  97 146]\n",
            "   [ 13  64 108]\n",
            "   [ 40  85 127]]\n",
            "\n",
            "  [[ 61 116 168]\n",
            "   [ 49 102 148]\n",
            "   [ 35  85 132]\n",
            "   ...\n",
            "   [ 26  82 130]\n",
            "   [ 29  82 126]\n",
            "   [ 20  64 107]]\n",
            "\n",
            "  [[ 54 107 160]\n",
            "   [ 56 105 149]\n",
            "   [ 45  89 132]\n",
            "   ...\n",
            "   [ 24  77 124]\n",
            "   [ 34  84 129]\n",
            "   [ 21  67 110]]]\n",
            "\n",
            "\n",
            " [[[235 235 235]\n",
            "   [231 231 231]\n",
            "   [232 232 232]\n",
            "   ...\n",
            "   [233 233 233]\n",
            "   [233 233 233]\n",
            "   [232 232 232]]\n",
            "\n",
            "  [[238 238 238]\n",
            "   [235 235 235]\n",
            "   [235 235 235]\n",
            "   ...\n",
            "   [236 236 236]\n",
            "   [236 236 236]\n",
            "   [235 235 235]]\n",
            "\n",
            "  [[237 237 237]\n",
            "   [234 234 234]\n",
            "   [234 234 234]\n",
            "   ...\n",
            "   [235 235 235]\n",
            "   [235 235 235]\n",
            "   [234 234 234]]\n",
            "\n",
            "  ...\n",
            "\n",
            "  [[ 87  99  89]\n",
            "   [ 43  51  37]\n",
            "   [ 19  23  11]\n",
            "   ...\n",
            "   [169 184 179]\n",
            "   [182 197 193]\n",
            "   [188 202 201]]\n",
            "\n",
            "  [[ 82  96  82]\n",
            "   [ 46  57  36]\n",
            "   [ 36  44  22]\n",
            "   ...\n",
            "   [174 189 183]\n",
            "   [185 200 196]\n",
            "   [187 202 200]]\n",
            "\n",
            "  [[ 85 101  83]\n",
            "   [ 62  75  48]\n",
            "   [ 58  67  38]\n",
            "   ...\n",
            "   [168 183 178]\n",
            "   [180 195 191]\n",
            "   [186 200 199]]]\n",
            "\n",
            "\n",
            " [[[158 190 222]\n",
            "   [158 187 218]\n",
            "   [139 166 194]\n",
            "   ...\n",
            "   [228 231 234]\n",
            "   [237 239 243]\n",
            "   [238 241 246]]\n",
            "\n",
            "  [[170 200 229]\n",
            "   [172 199 226]\n",
            "   [151 176 201]\n",
            "   ...\n",
            "   [232 232 236]\n",
            "   [246 246 250]\n",
            "   [246 247 251]]\n",
            "\n",
            "  [[174 201 225]\n",
            "   [176 200 222]\n",
            "   [157 179 199]\n",
            "   ...\n",
            "   [230 229 232]\n",
            "   [250 249 251]\n",
            "   [245 244 247]]\n",
            "\n",
            "  ...\n",
            "\n",
            "  [[ 31  40  45]\n",
            "   [ 30  39  44]\n",
            "   [ 26  35  40]\n",
            "   ...\n",
            "   [ 37  40  46]\n",
            "   [  9  13  14]\n",
            "   [  4   7   5]]\n",
            "\n",
            "  [[ 23  34  39]\n",
            "   [ 27  38  43]\n",
            "   [ 25  36  41]\n",
            "   ...\n",
            "   [ 19  20  24]\n",
            "   [  4   6   3]\n",
            "   [  5   7   3]]\n",
            "\n",
            "  [[ 28  41  47]\n",
            "   [ 30  43  50]\n",
            "   [ 32  45  52]\n",
            "   ...\n",
            "   [  5   6   8]\n",
            "   [  4   5   3]\n",
            "   [  7   8   7]]]\n",
            "\n",
            "\n",
            " ...\n",
            "\n",
            "\n",
            " [[[ 20  15  12]\n",
            "   [ 19  14  11]\n",
            "   [ 15  14  11]\n",
            "   ...\n",
            "   [ 10   9   7]\n",
            "   [ 12  11   9]\n",
            "   [ 13  12  10]]\n",
            "\n",
            "  [[ 21  16  13]\n",
            "   [ 20  16  13]\n",
            "   [ 18  17  12]\n",
            "   ...\n",
            "   [ 10   9   7]\n",
            "   [ 10   9   7]\n",
            "   [ 12  11   9]]\n",
            "\n",
            "  [[ 21  16  13]\n",
            "   [ 21  17  12]\n",
            "   [ 20  18  11]\n",
            "   ...\n",
            "   [ 12  11   9]\n",
            "   [ 12  11   9]\n",
            "   [ 13  12  10]]\n",
            "\n",
            "  ...\n",
            "\n",
            "  [[ 33  25  13]\n",
            "   [ 34  26  15]\n",
            "   [ 34  26  15]\n",
            "   ...\n",
            "   [ 28  25  52]\n",
            "   [ 29  25  58]\n",
            "   [ 23  20  42]]\n",
            "\n",
            "  [[ 33  25  14]\n",
            "   [ 34  26  15]\n",
            "   [ 34  26  15]\n",
            "   ...\n",
            "   [ 27  24  52]\n",
            "   [ 27  24  56]\n",
            "   [ 25  22  47]]\n",
            "\n",
            "  [[ 31  23  12]\n",
            "   [ 32  24  13]\n",
            "   [ 33  25  14]\n",
            "   ...\n",
            "   [ 24  23  50]\n",
            "   [ 26  23  53]\n",
            "   [ 25  20  47]]]\n",
            "\n",
            "\n",
            " [[[ 25  40  12]\n",
            "   [ 15  36   3]\n",
            "   [ 23  41  18]\n",
            "   ...\n",
            "   [ 61  82  78]\n",
            "   [ 92 113 112]\n",
            "   [ 75  89  92]]\n",
            "\n",
            "  [[ 12  25   6]\n",
            "   [ 20  37   7]\n",
            "   [ 24  36  15]\n",
            "   ...\n",
            "   [115 134 138]\n",
            "   [149 168 177]\n",
            "   [104 117 131]]\n",
            "\n",
            "  [[ 12  25  11]\n",
            "   [ 15  29   6]\n",
            "   [ 34  40  24]\n",
            "   ...\n",
            "   [154 172 182]\n",
            "   [157 175 192]\n",
            "   [116 129 151]]\n",
            "\n",
            "  ...\n",
            "\n",
            "  [[100 129  81]\n",
            "   [103 132  84]\n",
            "   [104 134  86]\n",
            "   ...\n",
            "   [ 97 128  84]\n",
            "   [ 98 126  84]\n",
            "   [ 91 121  79]]\n",
            "\n",
            "  [[103 132  83]\n",
            "   [104 131  83]\n",
            "   [107 135  87]\n",
            "   ...\n",
            "   [101 132  87]\n",
            "   [ 99 127  84]\n",
            "   [ 92 121  79]]\n",
            "\n",
            "  [[ 95 126  78]\n",
            "   [ 95 123  76]\n",
            "   [101 128  81]\n",
            "   ...\n",
            "   [ 93 124  80]\n",
            "   [ 95 123  81]\n",
            "   [ 92 120  80]]]\n",
            "\n",
            "\n",
            " [[[ 73  78  75]\n",
            "   [ 98 103 113]\n",
            "   [ 99 106 114]\n",
            "   ...\n",
            "   [135 150 152]\n",
            "   [135 149 154]\n",
            "   [203 215 223]]\n",
            "\n",
            "  [[ 69  73  70]\n",
            "   [ 84  89  97]\n",
            "   [ 68  75  81]\n",
            "   ...\n",
            "   [ 85  95  89]\n",
            "   [ 71  82  80]\n",
            "   [120 133 135]]\n",
            "\n",
            "  [[ 69  73  70]\n",
            "   [ 90  95 100]\n",
            "   [ 62  71  74]\n",
            "   ...\n",
            "   [ 74  81  70]\n",
            "   [ 53  62  54]\n",
            "   [ 62  74  69]]\n",
            "\n",
            "  ...\n",
            "\n",
            "  [[123 128  96]\n",
            "   [132 132 102]\n",
            "   [129 128 100]\n",
            "   ...\n",
            "   [108 107  88]\n",
            "   [ 62  60  55]\n",
            "   [ 27  27  28]]\n",
            "\n",
            "  [[115 121  91]\n",
            "   [123 124  95]\n",
            "   [129 126  99]\n",
            "   ...\n",
            "   [115 116  94]\n",
            "   [ 66  65  59]\n",
            "   [ 27  27  27]]\n",
            "\n",
            "  [[116 120  90]\n",
            "   [121 122  94]\n",
            "   [129 128 101]\n",
            "   ...\n",
            "   [116 115  94]\n",
            "   [ 68  65  58]\n",
            "   [ 27  26  26]]]]\n"
          ]
        }
      ]
    },
    {
      "cell_type": "code",
      "source": [
        "print(y_train)"
      ],
      "metadata": {
        "colab": {
          "base_uri": "https://localhost:8080/"
        },
        "id": "b-bOKxoG3y2C",
        "outputId": "8bdc57d3-b780-431c-daf1-4db77d5ffe71"
      },
      "execution_count": null,
      "outputs": [
        {
          "output_type": "stream",
          "name": "stdout",
          "text": [
            "[[6]\n",
            " [9]\n",
            " [9]\n",
            " ...\n",
            " [9]\n",
            " [1]\n",
            " [1]]\n"
          ]
        }
      ]
    },
    {
      "cell_type": "code",
      "source": [
        "print(y_test)"
      ],
      "metadata": {
        "colab": {
          "base_uri": "https://localhost:8080/"
        },
        "id": "GwAn9_mY30FL",
        "outputId": "c5fe9a6f-3020-42f0-f30f-c2c119dad104"
      },
      "execution_count": null,
      "outputs": [
        {
          "output_type": "stream",
          "name": "stdout",
          "text": [
            "[[3]\n",
            " [8]\n",
            " [8]\n",
            " ...\n",
            " [5]\n",
            " [1]\n",
            " [7]]\n"
          ]
        }
      ]
    },
    {
      "cell_type": "code",
      "source": [
        "X_test.shape"
      ],
      "metadata": {
        "colab": {
          "base_uri": "https://localhost:8080/"
        },
        "id": "9o5D6tMS33EN",
        "outputId": "23805a18-fa33-4a38-834f-727da1934df5"
      },
      "execution_count": null,
      "outputs": [
        {
          "output_type": "execute_result",
          "data": {
            "text/plain": [
              "(10000, 32, 32, 3)"
            ]
          },
          "metadata": {},
          "execution_count": 7
        }
      ]
    },
    {
      "cell_type": "code",
      "source": [
        "X_train.shape"
      ],
      "metadata": {
        "colab": {
          "base_uri": "https://localhost:8080/"
        },
        "id": "CmATEO6s4K4R",
        "outputId": "d019d871-277a-48d0-af2e-93e8bc3ae483"
      },
      "execution_count": null,
      "outputs": [
        {
          "output_type": "execute_result",
          "data": {
            "text/plain": [
              "(50000, 32, 32, 3)"
            ]
          },
          "metadata": {},
          "execution_count": 8
        }
      ]
    },
    {
      "cell_type": "markdown",
      "source": [
        "Data Processing & Visulization"
      ],
      "metadata": {
        "id": "DBraVfV165bp"
      }
    },
    {
      "cell_type": "code",
      "source": [
        "y_train = y_train.reshape(-1,)\n",
        "y_test = y_test.reshape(-1,)"
      ],
      "metadata": {
        "id": "ahhEL1pk4W6s"
      },
      "execution_count": null,
      "outputs": []
    },
    {
      "cell_type": "code",
      "source": [
        "print(y_test)"
      ],
      "metadata": {
        "colab": {
          "base_uri": "https://localhost:8080/"
        },
        "id": "4kXsfymy7cYO",
        "outputId": "09047ea5-3c9b-4890-c34a-be2927be8a0c"
      },
      "execution_count": null,
      "outputs": [
        {
          "output_type": "stream",
          "name": "stdout",
          "text": [
            "[3 8 8 ... 5 1 7]\n"
          ]
        }
      ]
    },
    {
      "cell_type": "code",
      "source": [
        "print(y_train)"
      ],
      "metadata": {
        "colab": {
          "base_uri": "https://localhost:8080/"
        },
        "id": "HR5J_O797fFO",
        "outputId": "6bf24df9-a570-4add-cebb-220dc43dafe2"
      },
      "execution_count": null,
      "outputs": [
        {
          "output_type": "stream",
          "name": "stdout",
          "text": [
            "[6 9 9 ... 9 1 1]\n"
          ]
        }
      ]
    },
    {
      "cell_type": "code",
      "source": [
        "classes = [\"airplane\",\"automobile\",\"bird\",\"cat\",\"deer\",\"dog\",\"frog\",\"horse\",\"ship\",\"truck\"]"
      ],
      "metadata": {
        "id": "0F2O0fOe753Z"
      },
      "execution_count": null,
      "outputs": []
    },
    {
      "cell_type": "markdown",
      "source": [
        "To check whether training and testing data is working, we plot a graph"
      ],
      "metadata": {
        "id": "pu4xq_BU96nm"
      }
    },
    {
      "cell_type": "code",
      "source": [
        "def plot_sample(X, y, index):\n",
        "    plt.figure(figsize = (15,2))\n",
        "    plt.imshow(X[index])\n",
        "    plt.xlabel(classes[y[index]])"
      ],
      "metadata": {
        "id": "2knEp0vd994o"
      },
      "execution_count": null,
      "outputs": []
    },
    {
      "cell_type": "code",
      "source": [
        "plot_sample(X_train, y_train, 4)"
      ],
      "metadata": {
        "colab": {
          "base_uri": "https://localhost:8080/",
          "height": 237
        },
        "id": "JueOn22E-W68",
        "outputId": "b9e928c1-e4c1-4afb-b638-8335b4d06c76"
      },
      "execution_count": null,
      "outputs": [
        {
          "output_type": "display_data",
          "data": {
            "text/plain": [
              "<Figure size 1500x200 with 1 Axes>"
            ],
            "image/png": "[encoded data removed]"
          },
          "metadata": {}
        }
      ]
    },
    {
      "cell_type": "code",
      "source": [
        "plot_sample(X_train, y_train, 1000)"
      ],
      "metadata": {
        "colab": {
          "base_uri": "https://localhost:8080/",
          "height": 237
        },
        "id": "hAUufCgq-ZH3",
        "outputId": "8ee27643-91f0-4424-a0b6-30fa370f8449"
      },
      "execution_count": null,
      "outputs": [
        {
          "output_type": "display_data",
          "data": {
            "text/plain": [
              "<Figure size 1500x200 with 1 Axes>"
            ],
            "image/png": "[encoded data removed]"
          },
          "metadata": {}
        }
      ]
    },
    {
      "cell_type": "markdown",
      "source": [
        "Normalizing the data: To make the data more suitable for training Neural Networks"
      ],
      "metadata": {
        "id": "9NREccV8AHkh"
      }
    },
    {
      "cell_type": "code",
      "source": [
        "X_train = X_train / 255.0\n",
        "X_test = X_test / 255.0"
      ],
      "metadata": {
        "id": "Qrk3tcv--kUx"
      },
      "execution_count": null,
      "outputs": []
    },
    {
      "cell_type": "markdown",
      "source": [
        "Set up basic ANN(Artificial Neural network) Model. Performing training"
      ],
      "metadata": {
        "id": "O-2bYZvABBOV"
      }
    },
    {
      "cell_type": "markdown",
      "source": [
        "Build a simple artificial neural network for image classification"
      ],
      "metadata": {
        "id": "2_E24aRDQPq7"
      }
    },
    {
      "cell_type": "code",
      "source": [
        "ann = models.Sequential([ # Ann variable Contains Model\n",
        "        layers.Flatten(input_shape=(32,32,3)), # First Layer, falltening layer, 32*32*3, Flatten into 1D Array- Preprocessing Step\n",
        "        layers.Dense(3000, activation='relu'), # Responsible ffor learning complex Data pttern\n",
        "        layers.Dense(1000, activation='relu'),\n",
        "        layers.Dense(10, activation='softmax')\n",
        "    ])  # Creating Model\n",
        "\n",
        "ann.compile(optimizer='SGD', # Stochastic Gradient Descent\n",
        "              loss='sparse_categorical_crossentropy',\n",
        "              metrics=['accuracy'])   # Compiling Model\n",
        "\n",
        "ann.fit(X_train, y_train, epochs=20)  #epoach - train Process"
      ],
      "metadata": {
        "colab": {
          "base_uri": "https://localhost:8080/"
        },
        "id": "dsZt7MO2BRIl",
        "outputId": "3a084c1d-a587-47b7-d341-f85797d9a1e3"
      },
      "execution_count": null,
      "outputs": [
        {
          "output_type": "stream",
          "name": "stdout",
          "text": [
            "Epoch 1/20\n",
            "1563/1563 [==============================] - 17s 9ms/step - loss: 1.8127 - accuracy: 0.3544\n",
            "Epoch 2/20\n",
            "1563/1563 [==============================] - 10s 6ms/step - loss: 1.6240 - accuracy: 0.4257\n",
            "Epoch 3/20\n",
            "1563/1563 [==============================] - 8s 5ms/step - loss: 1.5455 - accuracy: 0.4553\n",
            "Epoch 4/20\n",
            "1563/1563 [==============================] - 7s 5ms/step - loss: 1.4810 - accuracy: 0.4797\n",
            "Epoch 5/20\n",
            "1563/1563 [==============================] - 8s 5ms/step - loss: 1.4338 - accuracy: 0.4941\n",
            "Epoch 6/20\n",
            "1563/1563 [==============================] - 7s 5ms/step - loss: 1.3902 - accuracy: 0.5115\n",
            "Epoch 7/20\n",
            "1563/1563 [==============================] - 8s 5ms/step - loss: 1.3503 - accuracy: 0.5264\n",
            "Epoch 8/20\n",
            "1563/1563 [==============================] - 8s 5ms/step - loss: 1.3171 - accuracy: 0.5390\n",
            "Epoch 9/20\n",
            "1563/1563 [==============================] - 7s 5ms/step - loss: 1.2837 - accuracy: 0.5487\n",
            "Epoch 10/20\n",
            "1563/1563 [==============================] - 8s 5ms/step - loss: 1.2520 - accuracy: 0.5617\n",
            "Epoch 11/20\n",
            "1563/1563 [==============================] - 7s 5ms/step - loss: 1.2234 - accuracy: 0.5711\n",
            "Epoch 12/20\n",
            "1563/1563 [==============================] - 8s 5ms/step - loss: 1.1941 - accuracy: 0.5842\n",
            "Epoch 13/20\n",
            "1563/1563 [==============================] - 8s 5ms/step - loss: 1.1672 - accuracy: 0.5933\n",
            "Epoch 14/20\n",
            "1563/1563 [==============================] - 7s 5ms/step - loss: 1.1402 - accuracy: 0.6015\n",
            "Epoch 15/20\n",
            "1563/1563 [==============================] - 8s 5ms/step - loss: 1.1134 - accuracy: 0.6102\n",
            "Epoch 16/20\n",
            "1563/1563 [==============================] - 8s 5ms/step - loss: 1.0865 - accuracy: 0.6201\n",
            "Epoch 17/20\n",
            "1563/1563 [==============================] - 7s 4ms/step - loss: 1.0608 - accuracy: 0.6309\n",
            "Epoch 18/20\n",
            "1563/1563 [==============================] - 7s 5ms/step - loss: 1.0355 - accuracy: 0.6383\n",
            "Epoch 19/20\n",
            "1563/1563 [==============================] - 7s 5ms/step - loss: 1.0103 - accuracy: 0.6491\n",
            "Epoch 20/20\n",
            "1563/1563 [==============================] - 7s 5ms/step - loss: 0.9837 - accuracy: 0.6585\n"
          ]
        },
        {
          "output_type": "execute_result",
          "data": {
            "text/plain": [
              "<keras.src.callbacks.History at 0x7bc6d1f77b80>"
            ]
          },
          "metadata": {},
          "execution_count": 17
        }
      ]
    },
    {
      "cell_type": "markdown",
      "source": [
        "Evaluate the ANN model"
      ],
      "metadata": {
        "id": "H-EL816bQSZi"
      }
    },
    {
      "cell_type": "code",
      "source": [
        "from sklearn.metrics import confusion_matrix, classification_report\n",
        "y_pred = ann.predict(X_test)\n",
        "y_pred_classes = [np.argmax(element) for element in y_pred]\n",
        "print(\"Classification Report: \\n\", classification_report(y_test, y_pred_classes))"
      ],
      "metadata": {
        "colab": {
          "base_uri": "https://localhost:8080/"
        },
        "id": "YwwRRm14QELE",
        "outputId": "aa9a2ab0-1ea0-4be0-aa92-1b8a6bf78d47"
      },
      "execution_count": null,
      "outputs": [
        {
          "output_type": "stream",
          "name": "stdout",
          "text": [
            "313/313 [==============================] - 1s 2ms/step\n",
            "Classification Report: \n",
            "               precision    recall  f1-score   support\n",
            "\n",
            "           0       0.61      0.66      0.63      1000\n",
            "           1       0.51      0.80      0.62      1000\n",
            "           2       0.54      0.30      0.39      1000\n",
            "           3       0.43      0.25      0.31      1000\n",
            "           4       0.50      0.45      0.47      1000\n",
            "           5       0.40      0.56      0.47      1000\n",
            "           6       0.65      0.52      0.58      1000\n",
            "           7       0.57      0.64      0.60      1000\n",
            "           8       0.71      0.58      0.64      1000\n",
            "           9       0.52      0.61      0.56      1000\n",
            "\n",
            "    accuracy                           0.54     10000\n",
            "   macro avg       0.54      0.54      0.53     10000\n",
            "weighted avg       0.54      0.54      0.53     10000\n",
            "\n"
          ]
        }
      ]
    },
    {
      "cell_type": "markdown",
      "source": [
        "CNN(Convolutional Neural netwwrok) -- Image Classification"
      ],
      "metadata": {
        "id": "2dzL10CsBpfy"
      }
    },
    {
      "cell_type": "markdown",
      "source": [
        "Build a convolutional neural network to train the images ---> Training Images:"
      ],
      "metadata": {
        "id": "-6jpotLkQc-D"
      }
    },
    {
      "cell_type": "code",
      "source": [
        "cnn = models.Sequential([\n",
        "    layers.Conv2D(filters=32, kernel_size=(3, 3), activation='relu', input_shape=(32, 32, 3)),\n",
        "    layers.MaxPooling2D((2, 2)),# Reducing The Computation\n",
        "\n",
        "    layers.Conv2D(filters=64, kernel_size=(3, 3), activation='relu'),\n",
        "    layers.MaxPooling2D((2, 2)),\n",
        "\n",
        "    layers.Flatten(),\n",
        "    layers.Dense(64, activation='relu'),\n",
        "    layers.Dense(10, activation='softmax')\n",
        "])\n",
        "\n",
        "\n",
        "cnn.compile(optimizer='adam', loss='sparse_categorical_crossentropy', metrics=['accuracy'])\n",
        "\n",
        "\n",
        "cnn.fit(X_train, y_train, epochs=5)"
      ],
      "metadata": {
        "colab": {
          "base_uri": "https://localhost:8080/"
        },
        "id": "tqCipevvBTzk",
        "outputId": "e3a79058-f666-4a15-cedf-21c743e1f6a3"
      },
      "execution_count": null,
      "outputs": [
        {
          "output_type": "stream",
          "name": "stdout",
          "text": [
            "Epoch 1/5\n",
            "1563/1563 [==============================] - 10s 4ms/step - loss: 1.5134 - accuracy: 0.4520\n",
            "Epoch 2/5\n",
            "1563/1563 [==============================] - 6s 4ms/step - loss: 1.1528 - accuracy: 0.5954\n",
            "Epoch 3/5\n",
            "1563/1563 [==============================] - 6s 4ms/step - loss: 1.0068 - accuracy: 0.6511\n",
            "Epoch 4/5\n",
            "1563/1563 [==============================] - 6s 4ms/step - loss: 0.9297 - accuracy: 0.6768\n",
            "Epoch 5/5\n",
            "1563/1563 [==============================] - 6s 4ms/step - loss: 0.8668 - accuracy: 0.6997\n"
          ]
        },
        {
          "output_type": "execute_result",
          "data": {
            "text/plain": [
              "<keras.src.callbacks.History at 0x7bc66eecc220>"
            ]
          },
          "metadata": {},
          "execution_count": 19
        }
      ]
    },
    {
      "cell_type": "markdown",
      "source": [
        "Evaluate the CNN model"
      ],
      "metadata": {
        "id": "xn7iKuxqQhXy"
      }
    },
    {
      "cell_type": "code",
      "source": [
        "cnn.evaluate(X_test, y_test)\n",
        "\n",
        "y_pred = cnn.predict(X_test)\n",
        "y_classes = [np.argmax(element) for element in y_pred]\n",
        "y_classes[:5]\n",
        "y_test[:5]\n",
        "classes[y_classes[3]]\n",
        "classes[y_classes[2]]"
      ],
      "metadata": {
        "colab": {
          "base_uri": "https://localhost:8080/",
          "height": 70
        },
        "id": "_O83hOmyQZda",
        "outputId": "bb731ccb-c3ae-429e-c0da-42a8793fa53d"
      },
      "execution_count": null,
      "outputs": [
        {
          "output_type": "stream",
          "name": "stdout",
          "text": [
            "313/313 [==============================] - 1s 4ms/step - loss: 0.9359 - accuracy: 0.6762\n",
            "313/313 [==============================] - 1s 2ms/step\n"
          ]
        },
        {
          "output_type": "execute_result",
          "data": {
            "text/plain": [
              "'ship'"
            ],
            "application/vnd.google.colaboratory.intrinsic+json": {
              "type": "string"
            }
          },
          "metadata": {},
          "execution_count": 28
        }
      ]
    },
    {
      "cell_type": "code",
      "source": [
        "print(\"Classification Report: \\n\", classification_report(y_test, y_classes))"
      ],
      "metadata": {
        "colab": {
          "base_uri": "https://localhost:8080/"
        },
        "id": "3_ASkRdhSLNE",
        "outputId": "970772df-5555-494b-993d-82349739c8d1"
      },
      "execution_count": null,
      "outputs": [
        {
          "output_type": "stream",
          "name": "stdout",
          "text": [
            "Classification Report: \n",
            "               precision    recall  f1-score   support\n",
            "\n",
            "           0       0.70      0.69      0.70      1000\n",
            "           1       0.79      0.79      0.79      1000\n",
            "           2       0.53      0.60      0.56      1000\n",
            "           3       0.51      0.53      0.52      1000\n",
            "           4       0.71      0.49      0.58      1000\n",
            "           5       0.68      0.52      0.59      1000\n",
            "           6       0.71      0.82      0.76      1000\n",
            "           7       0.71      0.73      0.72      1000\n",
            "           8       0.66      0.87      0.75      1000\n",
            "           9       0.80      0.72      0.76      1000\n",
            "\n",
            "    accuracy                           0.68     10000\n",
            "   macro avg       0.68      0.68      0.67     10000\n",
            "weighted avg       0.68      0.68      0.67     10000\n",
            "\n"
          ]
        }
      ]
    },
    {
      "cell_type": "code",
      "source": [
        "plot_sample(X_test, y_test, 3)"
      ],
      "metadata": {
        "colab": {
          "base_uri": "https://localhost:8080/",
          "height": 237
        },
        "id": "eXSYBKCXSgJa",
        "outputId": "f58be1bc-d17d-4104-ea8d-9f0a40b309a8"
      },
      "execution_count": null,
      "outputs": [
        {
          "output_type": "display_data",
          "data": {
            "text/plain": [
              "<Figure size 1500x200 with 1 Axes>"
            ],
            "image/png": "[encoded data removed]"
          },
          "metadata": {}
        }
      ]
    },
    {
      "cell_type": "code",
      "source": [
        "plot_sample(X_test, y_test, 400)"
      ],
      "metadata": {
        "colab": {
          "base_uri": "https://localhost:8080/",
          "height": 237
        },
        "id": "3Hv93_RWS53C",
        "outputId": "71b9f041-1e2c-4c5d-d05a-cfbbec694d04"
      },
      "execution_count": null,
      "outputs": [
        {
          "output_type": "display_data",
          "data": {
            "text/plain": [
              "<Figure size 1500x200 with 1 Axes>"
            ],
            "image/png": "[encoded data removed]"
          },
          "metadata": {}
        }
      ]
    }
  ]
}